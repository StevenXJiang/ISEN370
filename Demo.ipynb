{
  "nbformat": 4,
  "nbformat_minor": 0,
  "metadata": {
    "colab": {
      "name": "Confidence_Interval_Homework.ipynb",
      "provenance": [],
      "collapsed_sections": [],
      "include_colab_link": true
    },
    "kernelspec": {
      "name": "python3",
      "display_name": "Python 3"
    }
  },
  "cells": [
    {
      "cell_type": "markdown",
      "metadata": {
        "id": "view-in-github",
        "colab_type": "text"
      },
      "source": [
        "<a href=\"https://colab.research.google.com/github/StevenXJiang/ISEN370/blob/main/Demo.ipynb\" target=\"_parent\"><img src=\"https://colab.research.google.com/assets/colab-badge.svg\" alt=\"Open In Colab\"/></a>"
      ]
    },
    {
      "cell_type": "markdown",
      "metadata": {
        "id": "ORIRg6IK6lqT"
      },
      "source": [
        "# ISEN 370 Demonstration \n",
        "In this demo, you will be shown how to use data science tools to build basic statistics for a Building dataset.\n"
      ]
    },
    {
      "cell_type": "code",
      "metadata": {
        "id": "I1uwHK-kA7Ur"
      },
      "source": [
        "import numpy as np\n",
        "import pandas as pd\n",
        "import matplotlib.pyplot as plt"
      ],
      "execution_count": 11,
      "outputs": []
    },
    {
      "cell_type": "markdown",
      "metadata": {
        "id": "3qsXYkC_6_r-"
      },
      "source": [
        "## Data Import\n",
        "\n",
        "First, import the Building dataset and print the first 10 rows of data. The data is stored in a CSV file for which the path is given in the cell below."
      ]
    },
    {
      "cell_type": "code",
      "metadata": {
        "id": "oWmt7-Ye7RY8"
      },
      "source": [
        "data_url='https://raw.githubusercontent.com/StevenXJiang/ISEN370/main/VU_Building_Data_for_ISEN370_Spr_2020.csv?token=ATX4K2JD7Q2UQAH4KW5VFJTAPW3LQ'"
      ],
      "execution_count": 20,
      "outputs": []
    },
    {
      "cell_type": "code",
      "metadata": {
        "id": "zdwkCZlR_ssb"
      },
      "source": [
        "data = pd.read_csv(data_url)"
      ],
      "execution_count": 21,
      "outputs": []
    },
    {
      "cell_type": "code",
      "metadata": {
        "id": "ZeAbaQ3lESpF",
        "outputId": "52ef2308-29a0-4e60-94ba-6d69b8049fb3",
        "colab": {
          "base_uri": "https://localhost:8080/",
          "height": 459
        }
      },
      "source": [
        "data.head(10)"
      ],
      "execution_count": 22,
      "outputs": [
        {
          "output_type": "execute_result",
          "data": {
            "text/html": [
              "<div>\n",
              "<style scoped>\n",
              "    .dataframe tbody tr th:only-of-type {\n",
              "        vertical-align: middle;\n",
              "    }\n",
              "\n",
              "    .dataframe tbody tr th {\n",
              "        vertical-align: top;\n",
              "    }\n",
              "\n",
              "    .dataframe thead th {\n",
              "        text-align: right;\n",
              "    }\n",
              "</style>\n",
              "<table border=\"1\" class=\"dataframe\">\n",
              "  <thead>\n",
              "    <tr style=\"text-align: right;\">\n",
              "      <th></th>\n",
              "      <th>Time</th>\n",
              "      <th>Outside Air Temperature</th>\n",
              "      <th>Outside Air Relative Humidity</th>\n",
              "      <th>Solar Irradiation</th>\n",
              "      <th>Heating Water Flow Rate</th>\n",
              "      <th>Cooling Water Flow Rate</th>\n",
              "      <th>TotalEnergy</th>\n",
              "    </tr>\n",
              "  </thead>\n",
              "  <tbody>\n",
              "    <tr>\n",
              "      <th>0</th>\n",
              "      <td>5/1/2019 6:00</td>\n",
              "      <td>74.948134</td>\n",
              "      <td>45.975163</td>\n",
              "      <td>652.0</td>\n",
              "      <td>11.470796</td>\n",
              "      <td>52.921483</td>\n",
              "      <td>2368.259398</td>\n",
              "    </tr>\n",
              "    <tr>\n",
              "      <th>1</th>\n",
              "      <td>5/1/2019 12:00</td>\n",
              "      <td>72.712222</td>\n",
              "      <td>58.188965</td>\n",
              "      <td>40175.0</td>\n",
              "      <td>12.899331</td>\n",
              "      <td>56.676044</td>\n",
              "      <td>2492.051721</td>\n",
              "    </tr>\n",
              "    <tr>\n",
              "      <th>2</th>\n",
              "      <td>5/1/2019 18:00</td>\n",
              "      <td>77.303218</td>\n",
              "      <td>50.842554</td>\n",
              "      <td>28088.0</td>\n",
              "      <td>12.541347</td>\n",
              "      <td>74.263546</td>\n",
              "      <td>2780.193712</td>\n",
              "    </tr>\n",
              "    <tr>\n",
              "      <th>3</th>\n",
              "      <td>5/2/2019 0:00</td>\n",
              "      <td>79.858004</td>\n",
              "      <td>47.440794</td>\n",
              "      <td>147.0</td>\n",
              "      <td>7.017166</td>\n",
              "      <td>64.022101</td>\n",
              "      <td>3356.955541</td>\n",
              "    </tr>\n",
              "    <tr>\n",
              "      <th>4</th>\n",
              "      <td>5/2/2019 6:00</td>\n",
              "      <td>67.272050</td>\n",
              "      <td>80.017084</td>\n",
              "      <td>855.0</td>\n",
              "      <td>13.038960</td>\n",
              "      <td>51.157088</td>\n",
              "      <td>2679.355667</td>\n",
              "    </tr>\n",
              "    <tr>\n",
              "      <th>5</th>\n",
              "      <td>5/2/2019 12:00</td>\n",
              "      <td>65.203176</td>\n",
              "      <td>82.435819</td>\n",
              "      <td>40572.0</td>\n",
              "      <td>13.052986</td>\n",
              "      <td>63.587878</td>\n",
              "      <td>2325.858735</td>\n",
              "    </tr>\n",
              "    <tr>\n",
              "      <th>6</th>\n",
              "      <td>5/2/2019 18:00</td>\n",
              "      <td>77.435962</td>\n",
              "      <td>62.814544</td>\n",
              "      <td>33942.0</td>\n",
              "      <td>10.945673</td>\n",
              "      <td>82.650103</td>\n",
              "      <td>3109.230072</td>\n",
              "    </tr>\n",
              "    <tr>\n",
              "      <th>7</th>\n",
              "      <td>5/3/2019 0:00</td>\n",
              "      <td>80.362612</td>\n",
              "      <td>47.781727</td>\n",
              "      <td>130.0</td>\n",
              "      <td>9.204394</td>\n",
              "      <td>63.725698</td>\n",
              "      <td>3547.629259</td>\n",
              "    </tr>\n",
              "    <tr>\n",
              "      <th>8</th>\n",
              "      <td>5/3/2019 6:00</td>\n",
              "      <td>69.237429</td>\n",
              "      <td>71.373502</td>\n",
              "      <td>554.0</td>\n",
              "      <td>12.931123</td>\n",
              "      <td>53.722039</td>\n",
              "      <td>2893.024089</td>\n",
              "    </tr>\n",
              "    <tr>\n",
              "      <th>9</th>\n",
              "      <td>5/3/2019 12:00</td>\n",
              "      <td>65.904534</td>\n",
              "      <td>80.658236</td>\n",
              "      <td>21741.0</td>\n",
              "      <td>13.170321</td>\n",
              "      <td>52.877535</td>\n",
              "      <td>2542.561279</td>\n",
              "    </tr>\n",
              "  </tbody>\n",
              "</table>\n",
              "</div>"
            ],
            "text/plain": [
              "             Time  ...  TotalEnergy\n",
              "0   5/1/2019 6:00  ...  2368.259398\n",
              "1  5/1/2019 12:00  ...  2492.051721\n",
              "2  5/1/2019 18:00  ...  2780.193712\n",
              "3   5/2/2019 0:00  ...  3356.955541\n",
              "4   5/2/2019 6:00  ...  2679.355667\n",
              "5  5/2/2019 12:00  ...  2325.858735\n",
              "6  5/2/2019 18:00  ...  3109.230072\n",
              "7   5/3/2019 0:00  ...  3547.629259\n",
              "8   5/3/2019 6:00  ...  2893.024089\n",
              "9  5/3/2019 12:00  ...  2542.561279\n",
              "\n",
              "[10 rows x 7 columns]"
            ]
          },
          "metadata": {
            "tags": []
          },
          "execution_count": 22
        }
      ]
    },
    {
      "cell_type": "markdown",
      "metadata": {
        "id": "RklW1Ll47aoQ"
      },
      "source": [
        "## Statistics Calculation\n",
        "\n",
        "Calculate and print some of the basic statistics for each of the features of the dataset. Be sure to include at least mean, range, and standard deviation and be sure to print it in such a way that it is clear what each number represents."
      ]
    },
    {
      "cell_type": "code",
      "metadata": {
        "id": "-F1z492j8H3D"
      },
      "source": [
        ""
      ],
      "execution_count": null,
      "outputs": []
    },
    {
      "cell_type": "markdown",
      "metadata": {
        "id": "aHvdhLAp8JwS"
      },
      "source": [
        "## Histogram Plotting\n",
        "\n",
        "Plot a histogram for each of the features of the dataset. Be sure to include proper titles and axis labels on each of your plots."
      ]
    },
    {
      "cell_type": "code",
      "metadata": {
        "id": "D5TXXDg58Wwn"
      },
      "source": [
        ""
      ],
      "execution_count": null,
      "outputs": []
    },
    {
      "cell_type": "markdown",
      "metadata": {
        "id": "et2TPHnI8Xmx"
      },
      "source": [
        "**Question**\n",
        "\n",
        "For each of the features, what distribution do you think best represents them? Explain your reasoning. \n",
        "\n",
        "Enter your answer in the text cell below:"
      ]
    },
    {
      "cell_type": "markdown",
      "metadata": {
        "id": "2k-pzbE28zTh"
      },
      "source": [
        "**Answer**\n",
        "\n"
      ]
    },
    {
      "cell_type": "markdown",
      "metadata": {
        "id": "Tzm0dkVv9OxU"
      },
      "source": [
        "## Confidence Interval\n",
        "\n",
        "**Question**\n",
        "\n",
        "Which 2 features to you think best fit a normal distrubution? Explain your reasoning.\n",
        "\n",
        "Enter your answer in the text cell below:"
      ]
    },
    {
      "cell_type": "markdown",
      "metadata": {
        "id": "pFCx-yuN9sXE"
      },
      "source": [
        "**Answer**"
      ]
    },
    {
      "cell_type": "markdown",
      "metadata": {
        "id": "D5RmWQda9voi"
      },
      "source": [
        "Based on your answer to the above question, build a 95% confidence interval for the mean of each of those features and print it below. Be sure to print in such a way that it is clear what each number represents."
      ]
    },
    {
      "cell_type": "code",
      "metadata": {
        "id": "T44xPth59rFg"
      },
      "source": [
        ""
      ],
      "execution_count": null,
      "outputs": []
    },
    {
      "cell_type": "markdown",
      "metadata": {
        "id": "lXhyu6_ySBmQ"
      },
      "source": [
        "**Question**\n",
        "\n",
        "Explain how your above code works (conceptually and mathematically).\n",
        "\n",
        "Enter your answer in the text cell below:"
      ]
    },
    {
      "cell_type": "markdown",
      "metadata": {
        "id": "QT9nLJzhSRG_"
      },
      "source": [
        "**Answer**\n"
      ]
    },
    {
      "cell_type": "markdown",
      "metadata": {
        "id": "cyoPfbYc-blN"
      },
      "source": [
        "## Bar Graph with Error Bars\n",
        "\n",
        "Based on your calculated confidence intervals, plot a bar graph of the mean of each of the two features and include error bars to represent your confidence. Again, be sure that your graph is titled and well labeled."
      ]
    },
    {
      "cell_type": "code",
      "metadata": {
        "id": "7tByiBWvEpkm"
      },
      "source": [
        ""
      ],
      "execution_count": null,
      "outputs": []
    }
  ]
}