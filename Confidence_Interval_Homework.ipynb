{
  "nbformat": 4,
  "nbformat_minor": 0,
  "metadata": {
    "colab": {
      "name": "Confidence_Interval_Homework.ipynb",
      "provenance": [],
      "collapsed_sections": [],
      "include_colab_link": true
    },
    "kernelspec": {
      "name": "python3",
      "display_name": "Python 3"
    }
  },
  "cells": [
    {
      "cell_type": "markdown",
      "metadata": {
        "id": "view-in-github",
        "colab_type": "text"
      },
      "source": [
        "<a href=\"https://colab.research.google.com/github/StevenXJiang/ISEN370/blob/main/Confidence_Interval_Homework.ipynb\" target=\"_parent\"><img src=\"https://colab.research.google.com/assets/colab-badge.svg\" alt=\"Open In Colab\"/></a>"
      ]
    },
    {
      "cell_type": "markdown",
      "metadata": {
        "id": "ORIRg6IK6lqT"
      },
      "source": [
        "# Univ 3360 - Confidence Interval Homework\n",
        "\n",
        "In this assignment, you will be demonstrating your understanding of using our data science tools and your ability to research and read documentation on these tools by building a 95% confidence interval around the Iris dataset.\n",
        "\n",
        "This assignment will be graded on a combination of how correct your answers and code are, as well as the style of the notebook including code comments, well named variables, and other annotations. Your submission will be graded based on your final Github commit. If you have any questions, please feel free to contact caleb.m.vatral@vanderbilt.edu."
      ]
    },
    {
      "cell_type": "markdown",
      "metadata": {
        "id": "3qsXYkC_6_r-"
      },
      "source": [
        "## Data Import\n",
        "\n",
        "First, import the Iris dataset and print the first 10 rows of data. The data is stored in a CSV file for which the path is given in the cell below."
      ]
    },
    {
      "cell_type": "code",
      "metadata": {
        "id": "clEPCcQ26-48"
      },
      "source": [
        "data_url = 'https://raw.githubusercontent.com/univ-3360-vu-smartcities/example-notebooks/master/datasets/classification/iris_data.csv'"
      ],
      "execution_count": null,
      "outputs": []
    },
    {
      "cell_type": "code",
      "metadata": {
        "id": "oWmt7-Ye7RY8"
      },
      "source": [
        ""
      ],
      "execution_count": null,
      "outputs": []
    },
    {
      "cell_type": "markdown",
      "metadata": {
        "id": "RklW1Ll47aoQ"
      },
      "source": [
        "## Statistics Calculation\n",
        "\n",
        "Calculate and print some of the basic statistics for each of the features of the dataset. Be sure to include at least mean, range, and standard deviation and be sure to print it in such a way that it is clear what each number represents."
      ]
    },
    {
      "cell_type": "code",
      "metadata": {
        "id": "-F1z492j8H3D"
      },
      "source": [
        ""
      ],
      "execution_count": null,
      "outputs": []
    },
    {
      "cell_type": "markdown",
      "metadata": {
        "id": "aHvdhLAp8JwS"
      },
      "source": [
        "## Histogram Plotting\n",
        "\n",
        "Plot a histogram for each of the features of the dataset. Be sure to include proper titles and axis labels on each of your plots."
      ]
    },
    {
      "cell_type": "code",
      "metadata": {
        "id": "D5TXXDg58Wwn"
      },
      "source": [
        ""
      ],
      "execution_count": null,
      "outputs": []
    },
    {
      "cell_type": "markdown",
      "metadata": {
        "id": "et2TPHnI8Xmx"
      },
      "source": [
        "**Question**\n",
        "\n",
        "For each of the features, what distribution do you think best represents them? Explain your reasoning. \n",
        "\n",
        "Enter your answer in the text cell below:"
      ]
    },
    {
      "cell_type": "markdown",
      "metadata": {
        "id": "2k-pzbE28zTh"
      },
      "source": [
        "**Answer**\n",
        "\n"
      ]
    },
    {
      "cell_type": "markdown",
      "metadata": {
        "id": "Tzm0dkVv9OxU"
      },
      "source": [
        "## Confidence Interval\n",
        "\n",
        "**Question**\n",
        "\n",
        "Which 2 features to you think best fit a normal distrubution? Explain your reasoning.\n",
        "\n",
        "Enter your answer in the text cell below:"
      ]
    },
    {
      "cell_type": "markdown",
      "metadata": {
        "id": "pFCx-yuN9sXE"
      },
      "source": [
        "**Answer**"
      ]
    },
    {
      "cell_type": "markdown",
      "metadata": {
        "id": "D5RmWQda9voi"
      },
      "source": [
        "Based on your answer to the above question, build a 95% confidence interval for the mean of each of those features and print it below. Be sure to print in such a way that it is clear what each number represents."
      ]
    },
    {
      "cell_type": "code",
      "metadata": {
        "id": "T44xPth59rFg"
      },
      "source": [
        ""
      ],
      "execution_count": null,
      "outputs": []
    },
    {
      "cell_type": "markdown",
      "metadata": {
        "id": "lXhyu6_ySBmQ"
      },
      "source": [
        "**Question**\n",
        "\n",
        "Explain how your above code works (conceptually and mathematically).\n",
        "\n",
        "Enter your answer in the text cell below:"
      ]
    },
    {
      "cell_type": "markdown",
      "metadata": {
        "id": "QT9nLJzhSRG_"
      },
      "source": [
        "**Answer**\n"
      ]
    },
    {
      "cell_type": "markdown",
      "metadata": {
        "id": "cyoPfbYc-blN"
      },
      "source": [
        "## Bar Graph with Error Bars\n",
        "\n",
        "Based on your calculated confidence intervals, plot a bar graph of the mean of each of the two features and include error bars to represent your confidence. Again, be sure that your graph is titled and well labeled."
      ]
    },
    {
      "cell_type": "code",
      "metadata": {
        "id": "7tByiBWvEpkm"
      },
      "source": [
        ""
      ],
      "execution_count": null,
      "outputs": []
    }
  ]
}